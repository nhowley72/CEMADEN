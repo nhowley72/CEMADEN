{
 "cells": [
  {
   "cell_type": "code",
   "execution_count": 7,
   "id": "dd5644c0",
   "metadata": {},
   "outputs": [
    {
     "name": "stdout",
     "output_type": "stream",
     "text": [
      "Collecting deap\n",
      "  Downloading deap-1.3.3-cp39-cp39-win_amd64.whl (114 kB)\n",
      "Requirement already satisfied: numpy in c:\\users\\noelh\\anaconda3\\lib\\site-packages (from deap) (1.20.3)\n",
      "Installing collected packages: deap\n",
      "Successfully installed deap-1.3.3\n",
      "Note: you may need to restart the kernel to use updated packages.\n"
     ]
    }
   ],
   "source": [
    "pip install deap"
   ]
  },
  {
   "cell_type": "code",
   "execution_count": 8,
   "id": "8defcfec",
   "metadata": {},
   "outputs": [],
   "source": [
    "from sklearn.datasets import make_classification\n",
    "from sklearn.model_selection import train_test_split\n",
    "from sklearn.ensemble import RandomForestClassifier\n",
    "from sklearn.metrics import accuracy_score\n",
    "from deap import base, creator, tools\n",
    "import numpy as np"
   ]
  },
  {
   "cell_type": "code",
   "execution_count": null,
   "id": "58d62cab",
   "metadata": {},
   "outputs": [],
   "source": [
    "# Generate a synthetic classification dataset\n",
    "X, y = make_classification(n_samples=1000, n_features=20, random_state=42)"
   ]
  },
  {
   "cell_type": "code",
   "execution_count": 15,
   "id": "7e0dab9c",
   "metadata": {},
   "outputs": [],
   "source": [
    "# Split the dataset into training and testing sets\n",
    "X_train, X_test, y_train, y_test = train_test_split(X, y, test_size=0.2, random_state=42)"
   ]
  },
  {
   "cell_type": "code",
   "execution_count": 16,
   "id": "37c6d565",
   "metadata": {},
   "outputs": [],
   "source": [
    "# Define the evaluation function\n",
    "def evaluate_fitness(individual):\n",
    "    # Select features based on the individual's chromosome\n",
    "    selected_features = np.asarray(individual, dtype=bool)\n",
    "    X_train_selected = X_train[:, selected_features]\n",
    "    X_test_selected = X_test[:, selected_features]\n",
    "    \n",
    "    # Train a classifier using the selected features\n",
    "    clf = RandomForestClassifier(random_state=42)\n",
    "    clf.fit(X_train_selected, y_train)\n",
    "    \n",
    "    # Evaluate the classifier's accuracy on the test set\n",
    "    y_pred = clf.predict(X_test_selected)\n",
    "    accuracy = accuracy_score(y_test, y_pred)\n",
    "    \n",
    "    # Return the accuracy as the fitness value\n",
    "    return accuracy,"
   ]
  },
  {
   "cell_type": "code",
   "execution_count": 17,
   "id": "8088bc06",
   "metadata": {},
   "outputs": [],
   "source": [
    "# Create the DEAP toolbox\n",
    "toolbox = base.Toolbox()"
   ]
  },
  {
   "cell_type": "code",
   "execution_count": null,
   "id": "cba56f2e",
   "metadata": {},
   "outputs": [],
   "source": [
    "# Create the fitness and individual classes\n",
    "creator.create(\"FitnessMax\", base.Fitness, weights=(1.0,))\n",
    "creator.create(\"Individual\", list, fitness=creator.FitnessMax)\n",
    "\n",
    "# Define the genetic operators\n",
    "toolbox.register(\"attr_bool\", np.random.choice, [True, False])\n",
    "toolbox.register(\"individual\", tools.initRepeat, creator.Individual, toolbox.attr_bool, n=len(X[0]))\n",
    "toolbox.register(\"population\", tools.initRepeat, list, toolbox.individual)\n",
    "toolbox.register(\"evaluate\", evaluate_fitness)\n",
    "toolbox.register(\"mate\", tools.cxTwoPoint)\n",
    "toolbox.register(\"mutate\", tools.mutFlipBit, indpb=0.05)\n",
    "toolbox.register(\"select\", tools.selTournament, tournsize=3)"
   ]
  },
  {
   "cell_type": "code",
   "execution_count": 18,
   "id": "0d3cbbcc",
   "metadata": {},
   "outputs": [
    {
     "ename": "AttributeError",
     "evalue": "'Toolbox' object has no attribute 'population'",
     "output_type": "error",
     "traceback": [
      "\u001b[1;31m---------------------------------------------------------------------------\u001b[0m",
      "\u001b[1;31mAttributeError\u001b[0m                            Traceback (most recent call last)",
      "\u001b[1;32m~\\AppData\\Local\\Temp/ipykernel_812/1453803867.py\u001b[0m in \u001b[0;36m<module>\u001b[1;34m\u001b[0m\n\u001b[0;32m     21\u001b[0m \u001b[1;33m\u001b[0m\u001b[0m\n\u001b[0;32m     22\u001b[0m \u001b[1;32mif\u001b[0m \u001b[0m__name__\u001b[0m \u001b[1;33m==\u001b[0m \u001b[1;34m\"__main__\"\u001b[0m\u001b[1;33m:\u001b[0m\u001b[1;33m\u001b[0m\u001b[1;33m\u001b[0m\u001b[0m\n\u001b[1;32m---> 23\u001b[1;33m     \u001b[0mmain\u001b[0m\u001b[1;33m(\u001b[0m\u001b[1;33m)\u001b[0m\u001b[1;33m\u001b[0m\u001b[1;33m\u001b[0m\u001b[0m\n\u001b[0m",
      "\u001b[1;32m~\\AppData\\Local\\Temp/ipykernel_812/1453803867.py\u001b[0m in \u001b[0;36mmain\u001b[1;34m()\u001b[0m\n\u001b[0;32m      1\u001b[0m \u001b[1;31m# Define the main evolutionary loop\u001b[0m\u001b[1;33m\u001b[0m\u001b[1;33m\u001b[0m\u001b[0m\n\u001b[0;32m      2\u001b[0m \u001b[1;32mdef\u001b[0m \u001b[0mmain\u001b[0m\u001b[1;33m(\u001b[0m\u001b[1;33m)\u001b[0m\u001b[1;33m:\u001b[0m\u001b[1;33m\u001b[0m\u001b[1;33m\u001b[0m\u001b[0m\n\u001b[1;32m----> 3\u001b[1;33m     \u001b[0mpopulation\u001b[0m \u001b[1;33m=\u001b[0m \u001b[0mtoolbox\u001b[0m\u001b[1;33m.\u001b[0m\u001b[0mpopulation\u001b[0m\u001b[1;33m(\u001b[0m\u001b[0mn\u001b[0m\u001b[1;33m=\u001b[0m\u001b[1;36m50\u001b[0m\u001b[1;33m)\u001b[0m\u001b[1;33m\u001b[0m\u001b[1;33m\u001b[0m\u001b[0m\n\u001b[0m\u001b[0;32m      4\u001b[0m     \u001b[0mnum_generations\u001b[0m \u001b[1;33m=\u001b[0m \u001b[1;36m10\u001b[0m\u001b[1;33m\u001b[0m\u001b[1;33m\u001b[0m\u001b[0m\n\u001b[0;32m      5\u001b[0m \u001b[1;33m\u001b[0m\u001b[0m\n",
      "\u001b[1;31mAttributeError\u001b[0m: 'Toolbox' object has no attribute 'population'"
     ]
    }
   ],
   "source": [
    "# Define the main evolutionary loop\n",
    "def main():\n",
    "    population = toolbox.population(n=50)\n",
    "    num_generations = 10\n",
    "    \n",
    "    for gen in range(num_generations):\n",
    "        offspring = algorithms.varAnd(population, toolbox, cxpb=0.5, mutpb=0.1)\n",
    "        fitnesses = toolbox.map(toolbox.evaluate, offspring)\n",
    "        for ind, fit in zip(offspring, fitnesses):\n",
    "            ind.fitness.values = fit\n",
    "        \n",
    "        population = toolbox.select(offspring, k=len(population))\n",
    "        \n",
    "        # Print the best individual in the current generation\n",
    "        best_individual = tools.selBest(population, k=1)[0]\n",
    "        print(f\"Generation {gen+1}: Best Accuracy = {best_individual.fitness.values[0]:.4f}\")\n",
    "    \n",
    "    best_individual = tools.selBest(population, k=1)[0]\n",
    "    print(f\"\\nBest Individual:\\n{best_individual}\")\n",
    "    print(f\"Best Accuracy: {best_individual.fitness.values[0]:.4f}\")\n",
    "\n",
    "if __name__ == \"__main__\":\n",
    "    main()"
   ]
  },
  {
   "cell_type": "code",
   "execution_count": 28,
   "id": "32b79a07",
   "metadata": {},
   "outputs": [
    {
     "name": "stderr",
     "output_type": "stream",
     "text": [
      "C:\\Users\\noelh\\anaconda3\\lib\\site-packages\\deap\\creator.py:138: RuntimeWarning: A class named 'FitnessMax' has already been created and it will be overwritten. Consider deleting previous creation of that class or rename it.\n",
      "  warnings.warn(\"A class named '{0}' has already been created and it \"\n",
      "C:\\Users\\noelh\\anaconda3\\lib\\site-packages\\deap\\creator.py:138: RuntimeWarning: A class named 'Individual' has already been created and it will be overwritten. Consider deleting previous creation of that class or rename it.\n",
      "  warnings.warn(\"A class named '{0}' has already been created and it \"\n"
     ]
    },
    {
     "name": "stdout",
     "output_type": "stream",
     "text": [
      "Generation 1: Best Accuracy = 0.9000\n",
      "Generation 2: Best Accuracy = 0.9100\n",
      "Generation 3: Best Accuracy = 0.9100\n",
      "Generation 4: Best Accuracy = 0.9100\n",
      "Generation 5: Best Accuracy = 0.9200\n",
      "Generation 6: Best Accuracy = 0.9200\n",
      "Generation 7: Best Accuracy = 0.9200\n",
      "Generation 8: Best Accuracy = 0.9200\n",
      "Generation 9: Best Accuracy = 0.9200\n",
      "Generation 10: Best Accuracy = 0.9200\n",
      "\n",
      "Best Individual:\n",
      "[False, False, False, False, False, True, False, False, False, True, False, False, False, False, True, True, True, False, True, False]\n",
      "Best Accuracy: 0.9200\n"
     ]
    }
   ],
   "source": [
    "from sklearn.datasets import make_classification\n",
    "from sklearn.model_selection import train_test_split\n",
    "from sklearn.ensemble import RandomForestClassifier\n",
    "from sklearn.metrics import accuracy_score\n",
    "from deap import base, creator, tools, algorithms\n",
    "import numpy as np\n",
    "\n",
    "# Generate a synthetic classification dataset\n",
    "X, y = make_classification(n_samples=1000, n_features=20, random_state=42)\n",
    "\n",
    "# Split the dataset into training and testing sets\n",
    "X_train, X_test, y_train, y_test = train_test_split(X, y, test_size=0.2, random_state=42)\n",
    "\n",
    "# Define the evaluation function\n",
    "def evaluate_fitness(individual):\n",
    "    # Select features based on the individual's chromosome\n",
    "    selected_features = np.asarray(individual, dtype=bool)\n",
    "    X_train_selected = X_train[:, selected_features]\n",
    "    X_test_selected = X_test[:, selected_features]\n",
    "    \n",
    "    # Train a classifier using the selected features\n",
    "    clf = RandomForestClassifier(random_state=42)\n",
    "    clf.fit(X_train_selected, y_train)\n",
    "    \n",
    "    # Evaluate the classifier's accuracy on the test set\n",
    "    y_pred = clf.predict(X_test_selected)\n",
    "    accuracy = accuracy_score(y_test, y_pred)\n",
    "    \n",
    "    # Return the accuracy as the fitness value\n",
    "    return accuracy,\n",
    "\n",
    "# Create the DEAP toolbox\n",
    "toolbox = base.Toolbox()\n",
    "\n",
    "# Create the fitness and individual classes\n",
    "creator.create(\"FitnessMax\", base.Fitness, weights=(1.0,))\n",
    "creator.create(\"Individual\", list, fitness=creator.FitnessMax)\n",
    "\n",
    "# Define the genetic operators\n",
    "toolbox.register(\"attr_bool\", np.random.choice, [True, False])\n",
    "toolbox.register(\"individual\", tools.initRepeat, creator.Individual, toolbox.attr_bool, n=len(X[0]))\n",
    "toolbox.register(\"population\", tools.initRepeat, list, toolbox.individual)\n",
    "toolbox.register(\"evaluate\", evaluate_fitness)\n",
    "toolbox.register(\"mate\", tools.cxTwoPoint)\n",
    "toolbox.register(\"mutate\", tools.mutFlipBit, indpb=0.05)\n",
    "toolbox.register(\"select\", tools.selTournament, tournsize=3)\n",
    "\n",
    "# Define the main evolutionary loop\n",
    "def main():\n",
    "    population = toolbox.population(n=50)\n",
    "    num_generations = 10\n",
    "    \n",
    "    for gen in range(num_generations):\n",
    "        offspring = algorithms.varAnd(population, toolbox, cxpb=0.5, mutpb=0.1)\n",
    "        fitnesses = toolbox.map(toolbox.evaluate, offspring)\n",
    "        for ind, fit in zip(offspring, fitnesses):\n",
    "            ind.fitness.values = fit\n",
    "        \n",
    "        population = toolbox.select(offspring, k=len(population))\n",
    "        \n",
    "        # Print the best individual in the current generation\n",
    "        best_individual = tools.selBest(population, k=1)[0]\n",
    "        print(f\"Generation {gen+1}: Best Accuracy = {best_individual.fitness.values[0]:.4f}\")\n",
    "    \n",
    "    best_individual = tools.selBest(population, k=1)[0]\n",
    "    print(f\"\\nBest Individual:\\n{best_individual}\")\n",
    "    print(f\"Best Accuracy: {best_individual.fitness.values[0]:.4f}\")\n",
    "\n",
    "if __name__ == \"__main__\":\n",
    "    main()\n"
   ]
  },
  {
   "cell_type": "markdown",
   "id": "7ae87a59",
   "metadata": {},
   "source": [
    "### The cell below is the cell used for testing the ML/GA algorithm on the applied problem of Soil moiture"
   ]
  },
  {
   "cell_type": "markdown",
   "id": "1c049bae",
   "metadata": {},
   "source": [
    "#### I think i need X to be a random vector assigned as already done below, but now for y, i need to alter this so that it is the soil moisture forecast."
   ]
  },
  {
   "cell_type": "code",
   "execution_count": null,
   "id": "83b70cda",
   "metadata": {},
   "outputs": [],
   "source": [
    "from sklearn.datasets import make_classification\n",
    "from sklearn.model_selection import train_test_split\n",
    "from sklearn.ensemble import RandomForestClassifier\n",
    "from sklearn.metrics import accuracy_score\n",
    "from deap import base, creator, tools, algorithms\n",
    "import numpy as np\n",
    "\n",
    "# Generate a synthetic classification dataset\n",
    "X, y = make_classification(n_samples=1000, n_features=20, random_state=42)\n",
    "y = \n",
    "# Split the dataset into training and testing sets\n",
    "X_train, X_test, y_train, y_test = train_test_split(X, y, test_size=0.2, random_state=42)\n",
    "\n",
    "# Define the evaluation function\n",
    "def evaluate_fitness(individual):\n",
    "    # Select features based on the individual's chromosome\n",
    "    selected_features = np.asarray(individual, dtype=bool)\n",
    "    X_train_selected = X_train[:, selected_features]\n",
    "    X_test_selected = X_test[:, selected_features]\n",
    "    \n",
    "    # Train a classifier using the selected features\n",
    "    clf = RandomForestClassifier(random_state=42)\n",
    "    clf.fit(X_train_selected, y_train)\n",
    "    \n",
    "    # Evaluate the classifier's accuracy on the test set\n",
    "    y_pred = clf.predict(X_test_selected)\n",
    "    accuracy = accuracy_score(y_test, y_pred)\n",
    "    \n",
    "    # Return the accuracy as the fitness value\n",
    "    return accuracy,\n",
    "\n",
    "# Create the DEAP toolbox\n",
    "toolbox = base.Toolbox()\n",
    "\n",
    "# Create the fitness and individual classes\n",
    "creator.create(\"FitnessMax\", base.Fitness, weights=(1.0,))\n",
    "creator.create(\"Individual\", list, fitness=creator.FitnessMax)\n",
    "\n",
    "# Define the genetic operators\n",
    "toolbox.register(\"attr_bool\", np.random.choice, [True, False])\n",
    "toolbox.register(\"individual\", tools.initRepeat, creator.Individual, toolbox.attr_bool, n=len(X[0]))\n",
    "toolbox.register(\"population\", tools.initRepeat, list, toolbox.individual)\n",
    "toolbox.register(\"evaluate\", evaluate_fitness)\n",
    "toolbox.register(\"mate\", tools.cxTwoPoint)\n",
    "toolbox.register(\"mutate\", tools.mutFlipBit, indpb=0.05)\n",
    "toolbox.register(\"select\", tools.selTournament, tournsize=3)\n",
    "\n",
    "# Define the main evolutionary loop\n",
    "def main():\n",
    "    population = toolbox.population(n=50)\n",
    "    num_generations = 10\n",
    "    \n",
    "    for gen in range(num_generations):\n",
    "        offspring = algorithms.varAnd(population, toolbox, cxpb=0.5, mutpb=0.1)\n",
    "        fitnesses = toolbox.map(toolbox.evaluate, offspring)\n",
    "        for ind, fit in zip(offspring, fitnesses):\n",
    "            ind.fitness.values = fit\n",
    "        \n",
    "        population = toolbox.select(offspring, k=len(population))\n",
    "        \n",
    "        # Print the best individual in the current generation\n",
    "        best_individual = tools.selBest(population, k=1)[0]\n",
    "        print(f\"Generation {gen+1}: Best Accuracy = {best_individual.fitness.values[0]:.4f}\")\n",
    "    \n",
    "    best_individual = tools.selBest(population, k=1)[0]\n",
    "    print(f\"\\nBest Individual:\\n{best_individual}\")\n",
    "    print(f\"Best Accuracy: {best_individual.fitness.values[0]:.4f}\")\n",
    "\n",
    "if __name__ == \"__main__\":\n",
    "    main()\n"
   ]
  }
 ],
 "metadata": {
  "kernelspec": {
   "display_name": "Python 3 (ipykernel)",
   "language": "python",
   "name": "python3"
  },
  "language_info": {
   "codemirror_mode": {
    "name": "ipython",
    "version": 3
   },
   "file_extension": ".py",
   "mimetype": "text/x-python",
   "name": "python",
   "nbconvert_exporter": "python",
   "pygments_lexer": "ipython3",
   "version": "3.9.7"
  }
 },
 "nbformat": 4,
 "nbformat_minor": 5
}
